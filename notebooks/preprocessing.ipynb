{
 "cells": [
  {
   "cell_type": "code",
   "execution_count": 1,
   "metadata": {
    "collapsed": true
   },
   "outputs": [
    {
     "name": "stdout",
     "output_type": "stream",
     "text": [
      "\u001B[33mWARNING: Retrying (Retry(total=4, connect=None, read=None, redirect=None, status=None)) after connection broken by 'NewConnectionError('<pip._vendor.urllib3.connection.HTTPSConnection object at 0x106fc3d90>: Failed to establish a new connection: [Errno 8] nodename nor servname provided, or not known')': /simple/pydicom/\u001B[0m\u001B[33m\r\n",
      "\u001B[0m\u001B[33mWARNING: Retrying (Retry(total=3, connect=None, read=None, redirect=None, status=None)) after connection broken by 'ReadTimeoutError(\"HTTPSConnectionPool(host='pypi.org', port=443): Read timed out. (read timeout=15)\")': /simple/pydicom/\u001B[0m\u001B[33m\r\n",
      "\u001B[0mCollecting pydicom\r\n",
      "  Downloading pydicom-2.3.1-py3-none-any.whl (2.0 MB)\r\n",
      "\u001B[2K     \u001B[90m━━━━━━━━━━━━━━━━━━━━━━━━━━━━━━━━━━━━━━━━\u001B[0m \u001B[32m2.0/2.0 MB\u001B[0m \u001B[31m3.2 MB/s\u001B[0m eta \u001B[36m0:00:00\u001B[0ma \u001B[36m0:00:01\u001B[0m\r\n",
      "\u001B[?25hInstalling collected packages: pydicom\r\n",
      "Successfully installed pydicom-2.3.1\r\n"
     ]
    }
   ],
   "source": [
    "!pip install pydicom"
   ]
  },
  {
   "cell_type": "code",
   "execution_count": 1,
   "outputs": [],
   "source": [
    "drive_folder = '/Users/berga/Google Drive/Shared drives/Contrast-AI/Test Images/Raw/CASE_001*/*.DCM'"
   ],
   "metadata": {
    "collapsed": false
   }
  },
  {
   "cell_type": "code",
   "execution_count": 2,
   "outputs": [],
   "source": [
    "from contrast_ai.preprocessing import read_dicom\n",
    "from glob import glob\n",
    "from tqdm import tqdm\n",
    "\n",
    "imgs = []\n",
    "for i, file in tqdm(enumerate(glob(drive_folder))):\n",
    "    print(file)\n",
    "    img = read_dicom(file)\n",
    "    imgs.append(img)\n",
    "    if i == 10:\n",
    "        break"
   ],
   "metadata": {
    "collapsed": false
   }
  },
  {
   "cell_type": "code",
   "execution_count": 3,
   "outputs": [],
   "source": [
    "imgs"
   ],
   "metadata": {
    "collapsed": false
   }
  },
  {
   "cell_type": "code",
   "execution_count": 4,
   "outputs": [
    {
     "name": "stderr",
     "output_type": "stream",
     "text": [
      "8it [00:00, 88.83it/s]\n"
     ]
    },
    {
     "name": "stdout",
     "output_type": "stream",
     "text": [
      "/Users/berga/Google Drive/Shared drives/Contrast-AI/Test Images/Raw/CASE_001_raw/I010001.DCM\n",
      "/Users/berga/Google Drive/Shared drives/Contrast-AI/Test Images/Raw/CASE_001_raw/I010002.DCM\n",
      "/Users/berga/Google Drive/Shared drives/Contrast-AI/Test Images/Raw/CASE_001_raw/I012002.DCM\n",
      "/Users/berga/Google Drive/Shared drives/Contrast-AI/Test Images/Raw/CASE_001_raw/I012001.DCM\n",
      "/Users/berga/Google Drive/Shared drives/Contrast-AI/Test Images/Raw/CASE_001_raw/I008002.DCM\n",
      "/Users/berga/Google Drive/Shared drives/Contrast-AI/Test Images/Raw/CASE_001_raw/I008001.DCM\n",
      "/Users/berga/Google Drive/Shared drives/Contrast-AI/Test Images/Raw/CASE_001_raw/I006001.DCM\n",
      "/Users/berga/Google Drive/Shared drives/Contrast-AI/Test Images/Raw/CASE_001_raw/I006002.DCM\n"
     ]
    },
    {
     "name": "stderr",
     "output_type": "stream",
     "text": [
      "8it [00:00, 88.21it/s]"
     ]
    },
    {
     "name": "stdout",
     "output_type": "stream",
     "text": [
      "/Users/berga/Google Drive/Shared drives/Contrast-AI/Test Images/Processed/CASE_001/I003001.DCM\n",
      "/Users/berga/Google Drive/Shared drives/Contrast-AI/Test Images/Processed/CASE_001/I011001.DCM\n",
      "/Users/berga/Google Drive/Shared drives/Contrast-AI/Test Images/Processed/CASE_001/I013001.DCM\n",
      "/Users/berga/Google Drive/Shared drives/Contrast-AI/Test Images/Processed/CASE_001/I005001.DCM\n",
      "/Users/berga/Google Drive/Shared drives/Contrast-AI/Test Images/Processed/CASE_001/I009001.DCM\n",
      "/Users/berga/Google Drive/Shared drives/Contrast-AI/Test Images/Processed/CASE_001/I007001.DCM\n",
      "/Users/berga/Google Drive/Shared drives/Contrast-AI/Test Images/Processed/CASE_001/I002001.DCM\n",
      "/Users/berga/Google Drive/Shared drives/Contrast-AI/Test Images/Processed/CASE_001/I004001.DCM\n"
     ]
    },
    {
     "name": "stderr",
     "output_type": "stream",
     "text": [
      "\n"
     ]
    }
   ],
   "source": [
    "import matplotlib.pyplot as plt\n",
    "\n",
    "# show image using current image resolution with figsize\n",
    "for i in range(10):\n",
    "    plt.figure(figsize=(10, 10))\n",
    "    plt.imshow(imgs[i], cmap='gray')\n",
    "    plt.show()\n"
   ],
   "metadata": {
    "collapsed": false
   }
  }
 ],
 "metadata": {
  "kernelspec": {
   "display_name": "Python 3",
   "language": "python",
   "name": "python3"
  },
  "language_info": {
   "codemirror_mode": {
    "name": "ipython",
    "version": 2
   },
   "file_extension": ".py",
   "mimetype": "text/x-python",
   "name": "python",
   "nbconvert_exporter": "python",
   "pygments_lexer": "ipython2",
   "version": "2.7.6"
  }
 },
 "nbformat": 4,
 "nbformat_minor": 0
}

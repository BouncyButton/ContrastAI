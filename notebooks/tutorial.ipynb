{
 "cells": [
  {
   "cell_type": "markdown",
   "source": [
    "# If running online"
   ],
   "metadata": {
    "collapsed": false
   }
  },
  {
   "cell_type": "code",
   "execution_count": null,
   "outputs": [],
   "source": [
    "!pip install git+https://github.com/BouncyButton/ContrastAI.git"
   ],
   "metadata": {
    "collapsed": false
   }
  },
  {
   "cell_type": "markdown",
   "source": [],
   "metadata": {
    "collapsed": false
   }
  },
  {
   "cell_type": "markdown",
   "source": [
    "# Code"
   ],
   "metadata": {
    "collapsed": false
   }
  },
  {
   "cell_type": "code",
   "execution_count": 1,
   "outputs": [],
   "source": [
    "from contrast_ai import my_function"
   ],
   "metadata": {
    "collapsed": false
   }
  },
  {
   "cell_type": "code",
   "execution_count": 2,
   "outputs": [
    {
     "data": {
      "text/plain": "10000000000"
     },
     "execution_count": 2,
     "metadata": {},
     "output_type": "execute_result"
    }
   ],
   "source": [
    "my_function(10)"
   ],
   "metadata": {
    "collapsed": false
   }
  },
  {
   "cell_type": "code",
   "execution_count": 6,
   "outputs": [],
   "source": [
    "platform = 'mps'  # or cuda"
   ],
   "metadata": {
    "collapsed": false
   }
  },
  {
   "cell_type": "code",
   "execution_count": 7,
   "metadata": {
    "collapsed": true
   },
   "outputs": [],
   "source": [
    "import torch\n",
    "\n",
    "device = torch.device(platform)"
   ]
  },
  {
   "cell_type": "code",
   "execution_count": 8,
   "outputs": [
    {
     "data": {
      "text/plain": "tensor([1, 2, 3], device='mps:0')"
     },
     "execution_count": 8,
     "metadata": {},
     "output_type": "execute_result"
    }
   ],
   "source": [
    "torch.tensor([1,2,3], device=device)"
   ],
   "metadata": {
    "collapsed": false
   }
  },
  {
   "cell_type": "code",
   "execution_count": 3,
   "outputs": [],
   "source": [
    "import contrast_ai\n",
    "\n"
   ],
   "metadata": {
    "collapsed": false
   }
  },
  {
   "cell_type": "code",
   "execution_count": 4,
   "outputs": [
    {
     "name": "stdout",
     "output_type": "stream",
     "text": [
      "Obtaining file:///Users/berga/PycharmProjects/ContrastAI\r\n",
      "  Preparing metadata (setup.py) ... \u001B[?25ldone\r\n",
      "\u001B[?25hRequirement already satisfied: numpy in /Users/berga/miniconda3/envs/torch/lib/python3.11/site-packages (from contrast-ai==0.0.1) (1.24.2)\r\n",
      "Requirement already satisfied: scipy in /Users/berga/miniconda3/envs/torch/lib/python3.11/site-packages (from contrast-ai==0.0.1) (1.10.1)\r\n",
      "Requirement already satisfied: scikit-learn in /Users/berga/miniconda3/envs/torch/lib/python3.11/site-packages (from contrast-ai==0.0.1) (1.2.2)\r\n",
      "Requirement already satisfied: pandas in /Users/berga/miniconda3/envs/torch/lib/python3.11/site-packages (from contrast-ai==0.0.1) (1.5.3)\r\n",
      "Requirement already satisfied: python-dateutil>=2.8.1 in /Users/berga/miniconda3/envs/torch/lib/python3.11/site-packages (from pandas->contrast-ai==0.0.1) (2.8.2)\r\n",
      "Requirement already satisfied: pytz>=2020.1 in /Users/berga/miniconda3/envs/torch/lib/python3.11/site-packages (from pandas->contrast-ai==0.0.1) (2022.7.1)\r\n",
      "Requirement already satisfied: joblib>=1.1.1 in /Users/berga/miniconda3/envs/torch/lib/python3.11/site-packages (from scikit-learn->contrast-ai==0.0.1) (1.2.0)\r\n",
      "Requirement already satisfied: threadpoolctl>=2.0.0 in /Users/berga/miniconda3/envs/torch/lib/python3.11/site-packages (from scikit-learn->contrast-ai==0.0.1) (3.1.0)\r\n",
      "Requirement already satisfied: six>=1.5 in /Users/berga/miniconda3/envs/torch/lib/python3.11/site-packages (from python-dateutil>=2.8.1->pandas->contrast-ai==0.0.1) (1.16.0)\r\n",
      "Installing collected packages: contrast-ai\r\n",
      "  Attempting uninstall: contrast-ai\r\n",
      "    Found existing installation: contrast-ai 0.0.1\r\n",
      "    Uninstalling contrast-ai-0.0.1:\r\n",
      "      Successfully uninstalled contrast-ai-0.0.1\r\n",
      "  Running setup.py develop for contrast-ai\r\n",
      "Successfully installed contrast-ai-0.0.1\r\n"
     ]
    }
   ],
   "source": [],
   "metadata": {
    "collapsed": false
   }
  }
 ],
 "metadata": {
  "kernelspec": {
   "display_name": "Python 3",
   "language": "python",
   "name": "python3"
  },
  "language_info": {
   "codemirror_mode": {
    "name": "ipython",
    "version": 2
   },
   "file_extension": ".py",
   "mimetype": "text/x-python",
   "name": "python",
   "nbconvert_exporter": "python",
   "pygments_lexer": "ipython2",
   "version": "2.7.6"
  }
 },
 "nbformat": 4,
 "nbformat_minor": 0
}
